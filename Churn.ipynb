{
 "cells": [
  {
   "cell_type": "markdown",
   "metadata": {},
   "source": [
    "<img src=\"images/rentacar.png\">\n",
    "<center>Ilustração por Abhishek.</center>\n",
    "\n",
    "# 🚘 ANÁLISE DE CHURN EM ALUGUÉIS DE CARRO"
   ]
  },
  {
   "cell_type": "markdown",
   "metadata": {},
   "source": [
    "O gerenciamento do relacionamento com os clientes tem como um dos seus objetivos\n",
    "centrais aumentar o número de clientes ativos da empresa - e a retenção desses clientes é crítica\n",
    "para seu sucesso. Sendo assim, um time foi mobilizado para garantir o desenvolvimento da\n",
    "estratégia de retenção de clientes e, sabendo do seu potencial analítico, você foi convocado para\n",
    "esse desafio.\n",
    "\n",
    "Em busca de uma maior compreensão das particularidades do negócio e de melhor\n",
    "entendimento do cenário do churn, vocês optaram por realizar uma análise exploratória dos\n",
    "dados. Em um primeiro momento algumas hipóteses foram levantadas visando direcionar esse\n",
    "desenvolvimento inicial e, considerando a base de dados disponibilizada e um período de churn\n",
    "de 1 ano, foi requisitado a você a validação da seguinte hipótese:\n",
    "\n",
    "<p></p>\n",
    "<p></p>\n",
    "<p></p>\n",
    "\n",
    "<center><b>“O churn de novos clientes é maior do que o churn de clientes ativos”.</b></center>\n",
    "\n",
    "<p></p>\n",
    "<p></p>\n",
    "<p></p>\n",
    "\n",
    "________\n",
    "\n",
    "\n",
    "## Metodologia Escolhida\n",
    "\n",
    "A metodologia utilizada nessa análise é verificar se os clientes que alugaram carros em um ano, voltaram a alugar no ano seguinte. Essa métrica caracterizará o Churn de Clientes ativos.\n",
    "\n",
    "Da mesma forma, será analisado se os novos clientes conquistados em um ano, voltaram a alugar carros no ano que o sucede. Aqui, temos o Churn de Clientes Novos.\n",
    "\n",
    "Esses indicadores de churn serão desenvolvidos para cada ano. Ao final da jornada, será verificada a média de churn no período analisado, para os clientes ativos e os clientes novos, a fim de aceitar ou rejeitar a hipótese.\n",
    "\n",
    "É interessante pontuar que existem outros métodos para se mensurar a retenção e evasão de clientes, e até mesmo neste problema de negócio seria possível utilizar outras formas e levar em consideração outras variáveis para se definir o que é um cliente ativo e o que é um cliente novo.\n",
    "\n",
    "Por fim, durante todo o decorrer da análise, desde as importações até a verificação de correlação, os códigos foram comentados para que fique mais claro o que o candidato está executando.\n",
    "\n",
    "_______"
   ]
  },
  {
   "cell_type": "markdown",
   "metadata": {
    "heading_collapsed": true
   },
   "source": [
    "# 0.0 Importações"
   ]
  },
  {
   "cell_type": "markdown",
   "metadata": {
    "hidden": true
   },
   "source": [
    "## 0.1 Bibliotecas"
   ]
  },
  {
   "cell_type": "code",
   "execution_count": 1,
   "metadata": {
    "hidden": true
   },
   "outputs": [],
   "source": [
    "import pandas            as pd\n",
    "import numpy             as np\n",
    "import matplotlib.pyplot as plt\n",
    "import seaborn           as sns\n",
    "import datetime\n",
    "import scipy.stats as stats\n",
    "\n",
    "from dateutil.relativedelta import relativedelta\n",
    "\n",
    "sns.set()"
   ]
  },
  {
   "cell_type": "markdown",
   "metadata": {
    "hidden": true
   },
   "source": [
    "## 0.2 Funções de suporte"
   ]
  },
  {
   "cell_type": "code",
   "execution_count": 2,
   "metadata": {
    "hidden": true
   },
   "outputs": [],
   "source": [
    "def calcular_churn(x,y):\n",
    "    n= x.shape[0]\n",
    "    n_total= y.shape[0]\n",
    "    \n",
    "    return (1-(n/n_total))"
   ]
  },
  {
   "cell_type": "markdown",
   "metadata": {
    "hidden": true
   },
   "source": [
    "## 0.3 Dataset"
   ]
  },
  {
   "cell_type": "code",
   "execution_count": 3,
   "metadata": {
    "hidden": true
   },
   "outputs": [],
   "source": [
    "df = pd.read_csv('data/base_teste.csv')"
   ]
  },
  {
   "cell_type": "code",
   "execution_count": 4,
   "metadata": {
    "hidden": true
   },
   "outputs": [
    {
     "data": {
      "text/html": [
       "<div>\n",
       "<style scoped>\n",
       "    .dataframe tbody tr th:only-of-type {\n",
       "        vertical-align: middle;\n",
       "    }\n",
       "\n",
       "    .dataframe tbody tr th {\n",
       "        vertical-align: top;\n",
       "    }\n",
       "\n",
       "    .dataframe thead th {\n",
       "        text-align: right;\n",
       "    }\n",
       "</style>\n",
       "<table border=\"1\" class=\"dataframe\">\n",
       "  <thead>\n",
       "    <tr style=\"text-align: right;\">\n",
       "      <th></th>\n",
       "      <th>Unnamed: 0</th>\n",
       "      <th>cidade_retirada</th>\n",
       "      <th>cidade_devolucao</th>\n",
       "      <th>cd_contrato</th>\n",
       "      <th>transporte_locado</th>\n",
       "      <th>data_abertura_contrato</th>\n",
       "      <th>qtd_diarias</th>\n",
       "      <th>data_fechamento_contrato</th>\n",
       "      <th>qtd_hora_extra</th>\n",
       "      <th>cd_cliente</th>\n",
       "    </tr>\n",
       "  </thead>\n",
       "  <tbody>\n",
       "    <tr>\n",
       "      <th>0</th>\n",
       "      <td>0</td>\n",
       "      <td>Hogsmeade</td>\n",
       "      <td>Hogsmeade</td>\n",
       "      <td>HGM048798</td>\n",
       "      <td>Portal</td>\n",
       "      <td>2015-01-26 05:58:37</td>\n",
       "      <td>1</td>\n",
       "      <td>2015-01-27 05:58:37</td>\n",
       "      <td>0</td>\n",
       "      <td>1</td>\n",
       "    </tr>\n",
       "    <tr>\n",
       "      <th>1</th>\n",
       "      <td>1</td>\n",
       "      <td>Springfield</td>\n",
       "      <td>Springfield</td>\n",
       "      <td>SPF030834</td>\n",
       "      <td>Ônibus Escolar</td>\n",
       "      <td>2015-02-05 15:10:19</td>\n",
       "      <td>1</td>\n",
       "      <td>2015-02-06 15:10:19</td>\n",
       "      <td>0</td>\n",
       "      <td>1</td>\n",
       "    </tr>\n",
       "    <tr>\n",
       "      <th>2</th>\n",
       "      <td>2</td>\n",
       "      <td>Porto Real</td>\n",
       "      <td>Porto Real</td>\n",
       "      <td>PRL017782</td>\n",
       "      <td>Barco</td>\n",
       "      <td>2015-05-04 20:49:56</td>\n",
       "      <td>1</td>\n",
       "      <td>2015-05-05 20:49:56</td>\n",
       "      <td>0</td>\n",
       "      <td>1</td>\n",
       "    </tr>\n",
       "    <tr>\n",
       "      <th>3</th>\n",
       "      <td>3</td>\n",
       "      <td>Basin City</td>\n",
       "      <td>Basin City</td>\n",
       "      <td>SIN042621</td>\n",
       "      <td>1960 Corvette</td>\n",
       "      <td>2015-05-07 07:34:04</td>\n",
       "      <td>1</td>\n",
       "      <td>2015-05-08 07:34:04</td>\n",
       "      <td>0</td>\n",
       "      <td>1</td>\n",
       "    </tr>\n",
       "    <tr>\n",
       "      <th>4</th>\n",
       "      <td>4</td>\n",
       "      <td>Godric's Hollow</td>\n",
       "      <td>Godric's Hollow</td>\n",
       "      <td>GDH044954</td>\n",
       "      <td>Testralio</td>\n",
       "      <td>2015-08-01 11:14:48</td>\n",
       "      <td>2</td>\n",
       "      <td>2015-08-03 12:14:48</td>\n",
       "      <td>1</td>\n",
       "      <td>1</td>\n",
       "    </tr>\n",
       "  </tbody>\n",
       "</table>\n",
       "</div>"
      ],
      "text/plain": [
       "   Unnamed: 0  cidade_retirada cidade_devolucao cd_contrato transporte_locado  \\\n",
       "0           0        Hogsmeade        Hogsmeade   HGM048798            Portal   \n",
       "1           1      Springfield      Springfield   SPF030834    Ônibus Escolar   \n",
       "2           2       Porto Real       Porto Real   PRL017782             Barco   \n",
       "3           3       Basin City       Basin City   SIN042621     1960 Corvette   \n",
       "4           4  Godric's Hollow  Godric's Hollow   GDH044954         Testralio   \n",
       "\n",
       "  data_abertura_contrato  qtd_diarias data_fechamento_contrato  \\\n",
       "0    2015-01-26 05:58:37            1      2015-01-27 05:58:37   \n",
       "1    2015-02-05 15:10:19            1      2015-02-06 15:10:19   \n",
       "2    2015-05-04 20:49:56            1      2015-05-05 20:49:56   \n",
       "3    2015-05-07 07:34:04            1      2015-05-08 07:34:04   \n",
       "4    2015-08-01 11:14:48            2      2015-08-03 12:14:48   \n",
       "\n",
       "   qtd_hora_extra  cd_cliente  \n",
       "0               0           1  \n",
       "1               0           1  \n",
       "2               0           1  \n",
       "3               0           1  \n",
       "4               1           1  "
      ]
     },
     "execution_count": 4,
     "metadata": {},
     "output_type": "execute_result"
    }
   ],
   "source": [
    "df.head()"
   ]
  },
  {
   "cell_type": "markdown",
   "metadata": {
    "heading_collapsed": true
   },
   "source": [
    "# 1.0 Descrição dos Dados"
   ]
  },
  {
   "cell_type": "code",
   "execution_count": 5,
   "metadata": {
    "hidden": true
   },
   "outputs": [],
   "source": [
    "df1 = df.copy()"
   ]
  },
  {
   "cell_type": "markdown",
   "metadata": {
    "hidden": true
   },
   "source": [
    "## 1.1 Tipagem dos dados"
   ]
  },
  {
   "cell_type": "code",
   "execution_count": 6,
   "metadata": {
    "hidden": true
   },
   "outputs": [
    {
     "data": {
      "text/plain": [
       "Unnamed: 0                   int64\n",
       "cidade_retirada             object\n",
       "cidade_devolucao            object\n",
       "cd_contrato                 object\n",
       "transporte_locado           object\n",
       "data_abertura_contrato      object\n",
       "qtd_diarias                  int64\n",
       "data_fechamento_contrato    object\n",
       "qtd_hora_extra               int64\n",
       "cd_cliente                   int64\n",
       "dtype: object"
      ]
     },
     "execution_count": 6,
     "metadata": {},
     "output_type": "execute_result"
    }
   ],
   "source": [
    "df1.dtypes"
   ]
  },
  {
   "cell_type": "code",
   "execution_count": 7,
   "metadata": {
    "hidden": true
   },
   "outputs": [],
   "source": [
    "# modificando o tipo dos dados para datetime\n",
    "\n",
    "df1['data_abertura_contrato'] = pd.to_datetime(df1['data_abertura_contrato'])\n",
    "df1['data_fechamento_contrato'] = pd.to_datetime(df1['data_fechamento_contrato'])"
   ]
  },
  {
   "cell_type": "markdown",
   "metadata": {
    "hidden": true
   },
   "source": [
    "## 1.2 Checagem de valores faltantes"
   ]
  },
  {
   "cell_type": "code",
   "execution_count": 8,
   "metadata": {
    "hidden": true
   },
   "outputs": [
    {
     "data": {
      "text/plain": [
       "Unnamed: 0                  0\n",
       "cidade_retirada             0\n",
       "cidade_devolucao            0\n",
       "cd_contrato                 0\n",
       "transporte_locado           0\n",
       "data_abertura_contrato      0\n",
       "qtd_diarias                 0\n",
       "data_fechamento_contrato    0\n",
       "qtd_hora_extra              0\n",
       "cd_cliente                  0\n",
       "dtype: int64"
      ]
     },
     "execution_count": 8,
     "metadata": {},
     "output_type": "execute_result"
    }
   ],
   "source": [
    "df1.isnull().sum()"
   ]
  },
  {
   "cell_type": "markdown",
   "metadata": {
    "heading_collapsed": true
   },
   "source": [
    "# 2.0 Modelagem de Dados"
   ]
  },
  {
   "cell_type": "code",
   "execution_count": 9,
   "metadata": {
    "hidden": true
   },
   "outputs": [
    {
     "data": {
      "text/plain": [
       "(Timestamp('2015-01-01 00:04:56'), Timestamp('2020-12-31 23:54:45'))"
      ]
     },
     "execution_count": 9,
     "metadata": {},
     "output_type": "execute_result"
    }
   ],
   "source": [
    "df1['data_abertura_contrato'].min(), df1['data_abertura_contrato'].max()"
   ]
  },
  {
   "cell_type": "code",
   "execution_count": 10,
   "metadata": {
    "hidden": true
   },
   "outputs": [],
   "source": [
    "# criando uma coluna de 'ano' para encontrar o churn anual\n",
    "\n",
    "df1['ano'] = (df1['data_abertura_contrato']).dt.year"
   ]
  },
  {
   "cell_type": "code",
   "execution_count": 11,
   "metadata": {
    "hidden": true
   },
   "outputs": [
    {
     "data": {
      "text/html": [
       "<div>\n",
       "<style scoped>\n",
       "    .dataframe tbody tr th:only-of-type {\n",
       "        vertical-align: middle;\n",
       "    }\n",
       "\n",
       "    .dataframe tbody tr th {\n",
       "        vertical-align: top;\n",
       "    }\n",
       "\n",
       "    .dataframe thead th {\n",
       "        text-align: right;\n",
       "    }\n",
       "</style>\n",
       "<table border=\"1\" class=\"dataframe\">\n",
       "  <thead>\n",
       "    <tr style=\"text-align: right;\">\n",
       "      <th></th>\n",
       "      <th>Unnamed: 0</th>\n",
       "      <th>cidade_retirada</th>\n",
       "      <th>cidade_devolucao</th>\n",
       "      <th>cd_contrato</th>\n",
       "      <th>transporte_locado</th>\n",
       "      <th>data_abertura_contrato</th>\n",
       "      <th>qtd_diarias</th>\n",
       "      <th>data_fechamento_contrato</th>\n",
       "      <th>qtd_hora_extra</th>\n",
       "      <th>cd_cliente</th>\n",
       "      <th>ano</th>\n",
       "    </tr>\n",
       "  </thead>\n",
       "  <tbody>\n",
       "    <tr>\n",
       "      <th>0</th>\n",
       "      <td>0</td>\n",
       "      <td>Hogsmeade</td>\n",
       "      <td>Hogsmeade</td>\n",
       "      <td>HGM048798</td>\n",
       "      <td>Portal</td>\n",
       "      <td>2015-01-26 05:58:37</td>\n",
       "      <td>1</td>\n",
       "      <td>2015-01-27 05:58:37</td>\n",
       "      <td>0</td>\n",
       "      <td>1</td>\n",
       "      <td>2015</td>\n",
       "    </tr>\n",
       "    <tr>\n",
       "      <th>1</th>\n",
       "      <td>1</td>\n",
       "      <td>Springfield</td>\n",
       "      <td>Springfield</td>\n",
       "      <td>SPF030834</td>\n",
       "      <td>Ônibus Escolar</td>\n",
       "      <td>2015-02-05 15:10:19</td>\n",
       "      <td>1</td>\n",
       "      <td>2015-02-06 15:10:19</td>\n",
       "      <td>0</td>\n",
       "      <td>1</td>\n",
       "      <td>2015</td>\n",
       "    </tr>\n",
       "    <tr>\n",
       "      <th>2</th>\n",
       "      <td>2</td>\n",
       "      <td>Porto Real</td>\n",
       "      <td>Porto Real</td>\n",
       "      <td>PRL017782</td>\n",
       "      <td>Barco</td>\n",
       "      <td>2015-05-04 20:49:56</td>\n",
       "      <td>1</td>\n",
       "      <td>2015-05-05 20:49:56</td>\n",
       "      <td>0</td>\n",
       "      <td>1</td>\n",
       "      <td>2015</td>\n",
       "    </tr>\n",
       "    <tr>\n",
       "      <th>3</th>\n",
       "      <td>3</td>\n",
       "      <td>Basin City</td>\n",
       "      <td>Basin City</td>\n",
       "      <td>SIN042621</td>\n",
       "      <td>1960 Corvette</td>\n",
       "      <td>2015-05-07 07:34:04</td>\n",
       "      <td>1</td>\n",
       "      <td>2015-05-08 07:34:04</td>\n",
       "      <td>0</td>\n",
       "      <td>1</td>\n",
       "      <td>2015</td>\n",
       "    </tr>\n",
       "    <tr>\n",
       "      <th>4</th>\n",
       "      <td>4</td>\n",
       "      <td>Godric's Hollow</td>\n",
       "      <td>Godric's Hollow</td>\n",
       "      <td>GDH044954</td>\n",
       "      <td>Testralio</td>\n",
       "      <td>2015-08-01 11:14:48</td>\n",
       "      <td>2</td>\n",
       "      <td>2015-08-03 12:14:48</td>\n",
       "      <td>1</td>\n",
       "      <td>1</td>\n",
       "      <td>2015</td>\n",
       "    </tr>\n",
       "  </tbody>\n",
       "</table>\n",
       "</div>"
      ],
      "text/plain": [
       "   Unnamed: 0  cidade_retirada cidade_devolucao cd_contrato transporte_locado  \\\n",
       "0           0        Hogsmeade        Hogsmeade   HGM048798            Portal   \n",
       "1           1      Springfield      Springfield   SPF030834    Ônibus Escolar   \n",
       "2           2       Porto Real       Porto Real   PRL017782             Barco   \n",
       "3           3       Basin City       Basin City   SIN042621     1960 Corvette   \n",
       "4           4  Godric's Hollow  Godric's Hollow   GDH044954         Testralio   \n",
       "\n",
       "  data_abertura_contrato  qtd_diarias data_fechamento_contrato  \\\n",
       "0    2015-01-26 05:58:37            1      2015-01-27 05:58:37   \n",
       "1    2015-02-05 15:10:19            1      2015-02-06 15:10:19   \n",
       "2    2015-05-04 20:49:56            1      2015-05-05 20:49:56   \n",
       "3    2015-05-07 07:34:04            1      2015-05-08 07:34:04   \n",
       "4    2015-08-01 11:14:48            2      2015-08-03 12:14:48   \n",
       "\n",
       "   qtd_hora_extra  cd_cliente   ano  \n",
       "0               0           1  2015  \n",
       "1               0           1  2015  \n",
       "2               0           1  2015  \n",
       "3               0           1  2015  \n",
       "4               1           1  2015  "
      ]
     },
     "execution_count": 11,
     "metadata": {},
     "output_type": "execute_result"
    }
   ],
   "source": [
    "df1.head()"
   ]
  },
  {
   "cell_type": "markdown",
   "metadata": {
    "hidden": true
   },
   "source": [
    "## 2.1 Clientes de 2015"
   ]
  },
  {
   "cell_type": "code",
   "execution_count": 12,
   "metadata": {
    "hidden": true
   },
   "outputs": [],
   "source": [
    "# filtro do ano analisado\n",
    "\n",
    "clientes_ativos_2015 = df1[['cd_cliente','qtd_diarias']][df1['ano'] == 2015]\n",
    "\n",
    "# removendo clientes duplicados\n",
    "\n",
    "clientes_ativos_2015.drop_duplicates('cd_cliente',keep=\"first\", inplace=True)\n",
    "\n",
    "# renomeando colunas\n",
    "\n",
    "clientes_ativos_2015.columns = ['cd_cliente', 'status_comparado_2015']\n",
    "\n",
    "# definindo todos os clientes do período como 'ativo'\n",
    "\n",
    "clientes_ativos_2015['status_comparado_2015'] = 'Ativo'"
   ]
  },
  {
   "cell_type": "code",
   "execution_count": 13,
   "metadata": {
    "hidden": true
   },
   "outputs": [
    {
     "data": {
      "text/html": [
       "<div>\n",
       "<style scoped>\n",
       "    .dataframe tbody tr th:only-of-type {\n",
       "        vertical-align: middle;\n",
       "    }\n",
       "\n",
       "    .dataframe tbody tr th {\n",
       "        vertical-align: top;\n",
       "    }\n",
       "\n",
       "    .dataframe thead th {\n",
       "        text-align: right;\n",
       "    }\n",
       "</style>\n",
       "<table border=\"1\" class=\"dataframe\">\n",
       "  <thead>\n",
       "    <tr style=\"text-align: right;\">\n",
       "      <th></th>\n",
       "      <th>cd_cliente</th>\n",
       "      <th>status_comparado_2015</th>\n",
       "    </tr>\n",
       "  </thead>\n",
       "  <tbody>\n",
       "    <tr>\n",
       "      <th>0</th>\n",
       "      <td>1</td>\n",
       "      <td>Ativo</td>\n",
       "    </tr>\n",
       "    <tr>\n",
       "      <th>36</th>\n",
       "      <td>2</td>\n",
       "      <td>Ativo</td>\n",
       "    </tr>\n",
       "    <tr>\n",
       "      <th>79</th>\n",
       "      <td>3</td>\n",
       "      <td>Ativo</td>\n",
       "    </tr>\n",
       "    <tr>\n",
       "      <th>116</th>\n",
       "      <td>4</td>\n",
       "      <td>Ativo</td>\n",
       "    </tr>\n",
       "    <tr>\n",
       "      <th>152</th>\n",
       "      <td>5</td>\n",
       "      <td>Ativo</td>\n",
       "    </tr>\n",
       "  </tbody>\n",
       "</table>\n",
       "</div>"
      ],
      "text/plain": [
       "     cd_cliente status_comparado_2015\n",
       "0             1                 Ativo\n",
       "36            2                 Ativo\n",
       "79            3                 Ativo\n",
       "116           4                 Ativo\n",
       "152           5                 Ativo"
      ]
     },
     "execution_count": 13,
     "metadata": {},
     "output_type": "execute_result"
    }
   ],
   "source": [
    "clientes_ativos_2015.head()"
   ]
  },
  {
   "cell_type": "code",
   "execution_count": 14,
   "metadata": {
    "hidden": true
   },
   "outputs": [
    {
     "data": {
      "text/plain": [
       "(26892, 2)"
      ]
     },
     "execution_count": 14,
     "metadata": {},
     "output_type": "execute_result"
    }
   ],
   "source": [
    "clientes_ativos_2015.shape"
   ]
  },
  {
   "cell_type": "markdown",
   "metadata": {
    "hidden": true
   },
   "source": [
    "## 2.2 Clientes de 2016"
   ]
  },
  {
   "cell_type": "code",
   "execution_count": 15,
   "metadata": {
    "hidden": true
   },
   "outputs": [],
   "source": [
    "# filtro do ano analisado\n",
    "\n",
    "clientes_ativos_2016 = df1[['cd_cliente','qtd_diarias']][df1['ano'] == 2016]\n",
    "\n",
    "# removendo clientes duplicados\n",
    "\n",
    "clientes_ativos_2016.drop_duplicates('cd_cliente',keep=\"first\", inplace=True)\n",
    "\n",
    "# renomeando colunas\n",
    "\n",
    "clientes_ativos_2016.columns = ['cd_cliente', 'status_comparado_2016']\n",
    "\n",
    "# definindo os clientes como ativos\n",
    "\n",
    "clientes_ativos_2016['status_comparado_2016'] = 'Ativo'"
   ]
  },
  {
   "cell_type": "markdown",
   "metadata": {
    "hidden": true
   },
   "source": [
    "### 2.2.1 Churn de Clientes Ativos"
   ]
  },
  {
   "cell_type": "code",
   "execution_count": 16,
   "metadata": {
    "hidden": true
   },
   "outputs": [],
   "source": [
    "# encontrando os clientes de 2015 que voltaram a alugar em 2016\n",
    "\n",
    "clientes_ativos_2016 = pd.merge(clientes_ativos_2016, clientes_ativos_2015, how='left', on='cd_cliente')\n"
   ]
  },
  {
   "cell_type": "code",
   "execution_count": 17,
   "metadata": {
    "hidden": true
   },
   "outputs": [
    {
     "data": {
      "text/plain": [
       "cd_cliente                  0\n",
       "status_comparado_2016       0\n",
       "status_comparado_2015    6852\n",
       "dtype: int64"
      ]
     },
     "execution_count": 17,
     "metadata": {},
     "output_type": "execute_result"
    }
   ],
   "source": [
    "# verificando os clientes novos de 2016, ou seja, que não alugaram em 2015\n",
    "\n",
    "clientes_ativos_2016.isnull().sum()"
   ]
  },
  {
   "cell_type": "code",
   "execution_count": 18,
   "metadata": {
    "hidden": true
   },
   "outputs": [],
   "source": [
    "# os valores nulos aqui são de clientes que fizeram seu primeiro aluguel, portanto, comparado a 2015, são 'clientes novos'\n",
    "\n",
    "clientes_ativos_2016['status_comparado_2015'] = clientes_ativos_2016['status_comparado_2015'].fillna('Novo')"
   ]
  },
  {
   "cell_type": "code",
   "execution_count": 19,
   "metadata": {
    "hidden": true
   },
   "outputs": [
    {
     "data": {
      "text/plain": [
       "0.2589245872378403"
      ]
     },
     "execution_count": 19,
     "metadata": {},
     "output_type": "execute_result"
    }
   ],
   "source": [
    "# possuindo o número de clientes de 2015 que voltaram a alugar em 2016, é possível encontrar o churn anual\n",
    "\n",
    "n = clientes_ativos_2016[clientes_ativos_2016['status_comparado_2015']=='Ativo']\n",
    "n_total = clientes_ativos_2015\n",
    "\n",
    "churn_ativos_2016 = calcular_churn(n, n_total)\n",
    "churn_ativos_2016"
   ]
  },
  {
   "cell_type": "markdown",
   "metadata": {
    "hidden": true
   },
   "source": [
    "Dessa forma, é possível dizer que **26% dos clientes** que alugaram um carro em 2015, não voltaram a alugar em 2016.\n",
    "_______"
   ]
  },
  {
   "cell_type": "markdown",
   "metadata": {
    "hidden": true
   },
   "source": [
    "## 2.3 Clientes de 2017"
   ]
  },
  {
   "cell_type": "code",
   "execution_count": 20,
   "metadata": {
    "hidden": true
   },
   "outputs": [],
   "source": [
    "# criando o df a ser utilizado tanto no cálculo de churn de clientes ativos, quando no churn de clientes novos\n",
    "\n",
    "clientes_2017 = df1[['cd_cliente','qtd_diarias']][df1['ano'] == 2017]\n",
    "\n",
    "clientes_2017.drop_duplicates('cd_cliente',keep=\"first\", inplace=True)\n",
    "\n",
    "# df de clientes ativos\n",
    "\n",
    "clientes_ativos_2017 = clientes_2017.copy()\n",
    "\n",
    "clientes_ativos_2017.columns = ['cd_cliente', 'status_comparado_2017']\n",
    "\n",
    "clientes_ativos_2017['status_comparado_2017'] = 'Ativo'"
   ]
  },
  {
   "cell_type": "markdown",
   "metadata": {
    "hidden": true
   },
   "source": [
    "### 2.3.1 Churn de Clientes Ativos"
   ]
  },
  {
   "cell_type": "code",
   "execution_count": 21,
   "metadata": {
    "hidden": true
   },
   "outputs": [],
   "source": [
    "# verirficando os clientes que alugaram um carro em 2016 e voltaram a alugar em 2017\n",
    "\n",
    "clientes_ativos_2017 = pd.merge(clientes_ativos_2017, clientes_ativos_2016[['cd_cliente', 'status_comparado_2016']], \n",
    "                                how='left', on='cd_cliente')\n",
    "\n",
    "# aqueles que não foram encontrados em 2016, é porque são novos clientes de 2017\n",
    "\n",
    "clientes_ativos_2017['status_comparado_2016'] = clientes_ativos_2017['status_comparado_2016'].fillna('Novo')"
   ]
  },
  {
   "cell_type": "code",
   "execution_count": 22,
   "metadata": {
    "hidden": true
   },
   "outputs": [
    {
     "data": {
      "text/plain": [
       "0.2584668234942683"
      ]
     },
     "execution_count": 22,
     "metadata": {},
     "output_type": "execute_result"
    }
   ],
   "source": [
    "n = clientes_ativos_2017[clientes_ativos_2017['status_comparado_2016']=='Ativo']\n",
    "n_total = clientes_ativos_2016\n",
    "\n",
    "churn_ativos_2017 = calcular_churn(n, n_total)\n",
    "churn_ativos_2017"
   ]
  },
  {
   "cell_type": "markdown",
   "metadata": {
    "hidden": true
   },
   "source": [
    "O churn de clientes ativos em 2017 **se manteve em 26%**."
   ]
  },
  {
   "cell_type": "markdown",
   "metadata": {
    "hidden": true
   },
   "source": [
    "### 2.3.2 Churn de Clientes Novos"
   ]
  },
  {
   "cell_type": "code",
   "execution_count": 23,
   "metadata": {
    "hidden": true
   },
   "outputs": [
    {
     "data": {
      "text/html": [
       "<div>\n",
       "<style scoped>\n",
       "    .dataframe tbody tr th:only-of-type {\n",
       "        vertical-align: middle;\n",
       "    }\n",
       "\n",
       "    .dataframe tbody tr th {\n",
       "        vertical-align: top;\n",
       "    }\n",
       "\n",
       "    .dataframe thead th {\n",
       "        text-align: right;\n",
       "    }\n",
       "</style>\n",
       "<table border=\"1\" class=\"dataframe\">\n",
       "  <thead>\n",
       "    <tr style=\"text-align: right;\">\n",
       "      <th></th>\n",
       "      <th>cd_cliente</th>\n",
       "      <th>status_comparado_2016</th>\n",
       "      <th>status_comparado_2015</th>\n",
       "    </tr>\n",
       "  </thead>\n",
       "  <tbody>\n",
       "    <tr>\n",
       "      <th>0</th>\n",
       "      <td>1</td>\n",
       "      <td>Ativo</td>\n",
       "      <td>Ativo</td>\n",
       "    </tr>\n",
       "    <tr>\n",
       "      <th>1</th>\n",
       "      <td>2</td>\n",
       "      <td>Ativo</td>\n",
       "      <td>Ativo</td>\n",
       "    </tr>\n",
       "    <tr>\n",
       "      <th>2</th>\n",
       "      <td>3</td>\n",
       "      <td>Ativo</td>\n",
       "      <td>Ativo</td>\n",
       "    </tr>\n",
       "    <tr>\n",
       "      <th>3</th>\n",
       "      <td>4</td>\n",
       "      <td>Ativo</td>\n",
       "      <td>Ativo</td>\n",
       "    </tr>\n",
       "    <tr>\n",
       "      <th>4</th>\n",
       "      <td>5</td>\n",
       "      <td>Ativo</td>\n",
       "      <td>Ativo</td>\n",
       "    </tr>\n",
       "  </tbody>\n",
       "</table>\n",
       "</div>"
      ],
      "text/plain": [
       "   cd_cliente status_comparado_2016 status_comparado_2015\n",
       "0           1                 Ativo                 Ativo\n",
       "1           2                 Ativo                 Ativo\n",
       "2           3                 Ativo                 Ativo\n",
       "3           4                 Ativo                 Ativo\n",
       "4           5                 Ativo                 Ativo"
      ]
     },
     "execution_count": 23,
     "metadata": {},
     "output_type": "execute_result"
    }
   ],
   "source": [
    "# relembrando as variáveis do dataframe de 2016\n",
    "\n",
    "clientes_ativos_2016.head()"
   ]
  },
  {
   "cell_type": "code",
   "execution_count": 24,
   "metadata": {
    "hidden": true
   },
   "outputs": [],
   "source": [
    "# criando um df auxiliar para encontrar os clientes novos conquistados em 2016\n",
    "\n",
    "aux1 = clientes_ativos_2016[['cd_cliente','status_comparado_2015']]\n",
    "\n",
    "aux1 = aux1[aux1['status_comparado_2015']=='Novo']\n",
    "\n",
    "aux1.columns = ['cd_cliente', 'status']"
   ]
  },
  {
   "cell_type": "code",
   "execution_count": 25,
   "metadata": {
    "hidden": true
   },
   "outputs": [
    {
     "data": {
      "text/html": [
       "<div>\n",
       "<style scoped>\n",
       "    .dataframe tbody tr th:only-of-type {\n",
       "        vertical-align: middle;\n",
       "    }\n",
       "\n",
       "    .dataframe tbody tr th {\n",
       "        vertical-align: top;\n",
       "    }\n",
       "\n",
       "    .dataframe thead th {\n",
       "        text-align: right;\n",
       "    }\n",
       "</style>\n",
       "<table border=\"1\" class=\"dataframe\">\n",
       "  <thead>\n",
       "    <tr style=\"text-align: right;\">\n",
       "      <th></th>\n",
       "      <th>cd_cliente</th>\n",
       "      <th>status</th>\n",
       "    </tr>\n",
       "  </thead>\n",
       "  <tbody>\n",
       "    <tr>\n",
       "      <th>2562</th>\n",
       "      <td>2565</td>\n",
       "      <td>Novo</td>\n",
       "    </tr>\n",
       "    <tr>\n",
       "      <th>2640</th>\n",
       "      <td>2644</td>\n",
       "      <td>Novo</td>\n",
       "    </tr>\n",
       "    <tr>\n",
       "      <th>2959</th>\n",
       "      <td>2963</td>\n",
       "      <td>Novo</td>\n",
       "    </tr>\n",
       "    <tr>\n",
       "      <th>3358</th>\n",
       "      <td>3363</td>\n",
       "      <td>Novo</td>\n",
       "    </tr>\n",
       "    <tr>\n",
       "      <th>3783</th>\n",
       "      <td>3790</td>\n",
       "      <td>Novo</td>\n",
       "    </tr>\n",
       "  </tbody>\n",
       "</table>\n",
       "</div>"
      ],
      "text/plain": [
       "      cd_cliente status\n",
       "2562        2565   Novo\n",
       "2640        2644   Novo\n",
       "2959        2963   Novo\n",
       "3358        3363   Novo\n",
       "3783        3790   Novo"
      ]
     },
     "execution_count": 25,
     "metadata": {},
     "output_type": "execute_result"
    }
   ],
   "source": [
    "aux1.head()"
   ]
  },
  {
   "cell_type": "code",
   "execution_count": 26,
   "metadata": {
    "hidden": true
   },
   "outputs": [],
   "source": [
    "# df de clientes novos\n",
    "\n",
    "clientes_novos_2017 = clientes_2017.copy()\n",
    "\n",
    "# verificando os clientes conquistados em 2016 que voltaram a comprar em 2017\n",
    "\n",
    "clientes_novos_2017 = pd.merge(clientes_2017, aux1, how='left', on='cd_cliente')\n",
    "\n",
    "# mantendo apenas os registros encontrados, ou seja, os clientes de 2017 que alugaram pela primeira vez em 2016\n",
    "\n",
    "clientes_novos_2017.dropna(inplace=True)"
   ]
  },
  {
   "cell_type": "code",
   "execution_count": 27,
   "metadata": {
    "hidden": true
   },
   "outputs": [
    {
     "data": {
      "text/html": [
       "<div>\n",
       "<style scoped>\n",
       "    .dataframe tbody tr th:only-of-type {\n",
       "        vertical-align: middle;\n",
       "    }\n",
       "\n",
       "    .dataframe tbody tr th {\n",
       "        vertical-align: top;\n",
       "    }\n",
       "\n",
       "    .dataframe thead th {\n",
       "        text-align: right;\n",
       "    }\n",
       "</style>\n",
       "<table border=\"1\" class=\"dataframe\">\n",
       "  <thead>\n",
       "    <tr style=\"text-align: right;\">\n",
       "      <th></th>\n",
       "      <th>cd_cliente</th>\n",
       "      <th>qtd_diarias</th>\n",
       "      <th>status</th>\n",
       "    </tr>\n",
       "  </thead>\n",
       "  <tbody>\n",
       "    <tr>\n",
       "      <th>2563</th>\n",
       "      <td>2565</td>\n",
       "      <td>3</td>\n",
       "      <td>Novo</td>\n",
       "    </tr>\n",
       "    <tr>\n",
       "      <th>2642</th>\n",
       "      <td>2644</td>\n",
       "      <td>5</td>\n",
       "      <td>Novo</td>\n",
       "    </tr>\n",
       "    <tr>\n",
       "      <th>2961</th>\n",
       "      <td>2963</td>\n",
       "      <td>14</td>\n",
       "      <td>Novo</td>\n",
       "    </tr>\n",
       "    <tr>\n",
       "      <th>3360</th>\n",
       "      <td>3363</td>\n",
       "      <td>2</td>\n",
       "      <td>Novo</td>\n",
       "    </tr>\n",
       "    <tr>\n",
       "      <th>3785</th>\n",
       "      <td>3790</td>\n",
       "      <td>1</td>\n",
       "      <td>Novo</td>\n",
       "    </tr>\n",
       "  </tbody>\n",
       "</table>\n",
       "</div>"
      ],
      "text/plain": [
       "      cd_cliente  qtd_diarias status\n",
       "2563        2565            3   Novo\n",
       "2642        2644            5   Novo\n",
       "2961        2963           14   Novo\n",
       "3360        3363            2   Novo\n",
       "3785        3790            1   Novo"
      ]
     },
     "execution_count": 27,
     "metadata": {},
     "output_type": "execute_result"
    }
   ],
   "source": [
    "clientes_novos_2017.head()"
   ]
  },
  {
   "cell_type": "code",
   "execution_count": 28,
   "metadata": {
    "hidden": true
   },
   "outputs": [
    {
     "data": {
      "text/plain": [
       "0.5888791593695272"
      ]
     },
     "execution_count": 28,
     "metadata": {},
     "output_type": "execute_result"
    }
   ],
   "source": [
    "# agora tendo o número total de clientes novos em 2016 e quantos deles voltaram a alugar em 2017, é possível encontrar o churn\n",
    "\n",
    "n = clientes_novos_2017\n",
    "n_total = aux1\n",
    "\n",
    "churn_novos_2017 = calcular_churn(n, n_total)\n",
    "churn_novos_2017"
   ]
  },
  {
   "cell_type": "markdown",
   "metadata": {
    "hidden": true
   },
   "source": [
    "Segundo o cálculo, **59% dos novos clientes** conquistados em 2016 não voltaram a alugar novamente em 2017.\n",
    "__________"
   ]
  },
  {
   "cell_type": "markdown",
   "metadata": {
    "hidden": true
   },
   "source": [
    "## 2.4 Clientes de 2018"
   ]
  },
  {
   "cell_type": "code",
   "execution_count": 29,
   "metadata": {
    "hidden": true
   },
   "outputs": [],
   "source": [
    "clientes_2018 = df1[['cd_cliente','qtd_diarias']][df1['ano'] == 2018]\n",
    "\n",
    "clientes_2018.drop_duplicates('cd_cliente',keep=\"first\", inplace=True)\n",
    "\n",
    "clientes_ativos_2018 = clientes_2018.copy()\n",
    "\n",
    "clientes_ativos_2018.columns = ['cd_cliente', 'status_comparado_2018']\n",
    "\n",
    "clientes_ativos_2018['status_comparado_2018'] = 'Ativo'"
   ]
  },
  {
   "cell_type": "markdown",
   "metadata": {
    "hidden": true
   },
   "source": [
    "### 2.4.1 Churn de Clientes Ativos"
   ]
  },
  {
   "cell_type": "code",
   "execution_count": 30,
   "metadata": {
    "hidden": true
   },
   "outputs": [],
   "source": [
    "# verificando os clientes de 2017 que voltaram a alugar em 2018\n",
    "\n",
    "clientes_ativos_2018 = pd.merge(clientes_ativos_2018, clientes_ativos_2017[['cd_cliente', 'status_comparado_2017']], \n",
    "                                how='left', on='cd_cliente')"
   ]
  },
  {
   "cell_type": "code",
   "execution_count": 31,
   "metadata": {
    "hidden": true
   },
   "outputs": [
    {
     "data": {
      "text/plain": [
       "cd_cliente                  0\n",
       "status_comparado_2018       0\n",
       "status_comparado_2017    6997\n",
       "dtype: int64"
      ]
     },
     "execution_count": 31,
     "metadata": {},
     "output_type": "execute_result"
    }
   ],
   "source": [
    "# valores nulos são clientes novos\n",
    "\n",
    "clientes_ativos_2018.isnull().sum()"
   ]
  },
  {
   "cell_type": "code",
   "execution_count": 32,
   "metadata": {
    "hidden": true
   },
   "outputs": [],
   "source": [
    "# preenchendo os nulos com 'Novo', sinalizando um cliente conquistado nesse ano de 2018\n",
    "\n",
    "clientes_ativos_2018['status_comparado_2017'] = clientes_ativos_2018['status_comparado_2017'].fillna('Novo')"
   ]
  },
  {
   "cell_type": "code",
   "execution_count": 33,
   "metadata": {
    "hidden": true
   },
   "outputs": [
    {
     "data": {
      "text/plain": [
       "0.25619220914256"
      ]
     },
     "execution_count": 33,
     "metadata": {},
     "output_type": "execute_result"
    }
   ],
   "source": [
    "# churn dos clientes ativos em 2017 que não voltaram a alugar carros em 2018\n",
    "\n",
    "n = clientes_ativos_2018[clientes_ativos_2018['status_comparado_2017']=='Ativo']\n",
    "n_total = clientes_ativos_2017\n",
    "\n",
    "churn_ativos_2018 = calcular_churn(n, n_total)\n",
    "churn_ativos_2018"
   ]
  },
  {
   "cell_type": "markdown",
   "metadata": {
    "hidden": true
   },
   "source": [
    "Novamente, o churn de clientes ativos **segue uma constante de 26%**."
   ]
  },
  {
   "cell_type": "markdown",
   "metadata": {
    "hidden": true
   },
   "source": [
    "### 2.4.2 Churn de Clientes Novos"
   ]
  },
  {
   "cell_type": "code",
   "execution_count": 34,
   "metadata": {
    "hidden": true
   },
   "outputs": [],
   "source": [
    "# df auxiliar de clientes conquistados em 2017\n",
    "\n",
    "aux2 = clientes_ativos_2017[['cd_cliente','status_comparado_2016']]\n",
    "\n",
    "aux2 = aux2[aux2['status_comparado_2016']=='Novo']\n",
    "\n",
    "aux2.columns = ['cd_cliente', 'status']"
   ]
  },
  {
   "cell_type": "code",
   "execution_count": 35,
   "metadata": {
    "hidden": true
   },
   "outputs": [],
   "source": [
    "# df de clientes novos\n",
    "\n",
    "clientes_novos_2018 = clientes_2018.copy()\n",
    "\n",
    "# verificando os clientes conquistados em 2017 que voltaram a alugar em 2018\n",
    "\n",
    "clientes_novos_2018 = pd.merge(clientes_novos_2018, aux2, how='left', on='cd_cliente')\n",
    "\n",
    "# mantendo apenas os registros encontrados, ou seja, os clientes de 2018 que alugaram pela primeira vez em 2017\n",
    "\n",
    "clientes_novos_2018.dropna(inplace=True)"
   ]
  },
  {
   "cell_type": "code",
   "execution_count": 36,
   "metadata": {
    "hidden": true
   },
   "outputs": [
    {
     "data": {
      "text/plain": [
       "0.5738330975954739"
      ]
     },
     "execution_count": 36,
     "metadata": {},
     "output_type": "execute_result"
    }
   ],
   "source": [
    "# calculando o churn dos clientes conquistados em 2017 que não voltaram a alugar em 2018\n",
    "\n",
    "n = clientes_novos_2018\n",
    "n_total = aux2\n",
    "\n",
    "churn_novos_2018 = calcular_churn(n, n_total)\n",
    "churn_novos_2018"
   ]
  },
  {
   "cell_type": "markdown",
   "metadata": {
    "hidden": true
   },
   "source": [
    "Dessa vez, **57% dos clientes** conquistados em 2017, não voltaram a alugar carros em 2018.\n",
    "_____"
   ]
  },
  {
   "cell_type": "markdown",
   "metadata": {
    "hidden": true
   },
   "source": [
    "## 2.5 Clientes de 2019"
   ]
  },
  {
   "cell_type": "code",
   "execution_count": 37,
   "metadata": {
    "hidden": true
   },
   "outputs": [],
   "source": [
    "clientes_2019 = df1[df1['ano'] == 2019]\n",
    "\n",
    "clientes_2019 = clientes_2019[['cd_cliente','qtd_diarias']].groupby('cd_cliente').count().reset_index()\n",
    "\n",
    "clientes_ativos_2019 = clientes_2019.copy()\n",
    "\n",
    "clientes_ativos_2019.columns = ['cd_cliente', 'status_comparado_2019']\n",
    "\n",
    "clientes_ativos_2019['status_comparado_2019'] = 'Ativo'"
   ]
  },
  {
   "cell_type": "markdown",
   "metadata": {
    "hidden": true
   },
   "source": [
    "### 2.5.1 Churn de Clientes Ativos"
   ]
  },
  {
   "cell_type": "code",
   "execution_count": 38,
   "metadata": {
    "hidden": true
   },
   "outputs": [],
   "source": [
    "clientes_ativos_2019 = pd.merge(clientes_ativos_2019, clientes_ativos_2018[['cd_cliente', 'status_comparado_2018']], \n",
    "                                how='left', on='cd_cliente')"
   ]
  },
  {
   "cell_type": "code",
   "execution_count": 39,
   "metadata": {
    "hidden": true
   },
   "outputs": [
    {
     "data": {
      "text/plain": [
       "cd_cliente                  0\n",
       "status_comparado_2019       0\n",
       "status_comparado_2018    6945\n",
       "dtype: int64"
      ]
     },
     "execution_count": 39,
     "metadata": {},
     "output_type": "execute_result"
    }
   ],
   "source": [
    "clientes_ativos_2019.isnull().sum()"
   ]
  },
  {
   "cell_type": "code",
   "execution_count": 40,
   "metadata": {
    "hidden": true
   },
   "outputs": [],
   "source": [
    "# os clientes de 2019 que não alugaram carros em 2018 são considerados como novos\n",
    "\n",
    "clientes_ativos_2019['status_comparado_2018'] = clientes_ativos_2019['status_comparado_2018'].fillna('Novo')"
   ]
  },
  {
   "cell_type": "code",
   "execution_count": 41,
   "metadata": {
    "hidden": true
   },
   "outputs": [
    {
     "data": {
      "text/plain": [
       "0.25770525770525765"
      ]
     },
     "execution_count": 41,
     "metadata": {},
     "output_type": "execute_result"
    }
   ],
   "source": [
    "# calculo do churn de clientes ativos em 2019\n",
    "\n",
    "n = clientes_ativos_2019[clientes_ativos_2019['status_comparado_2018']=='Ativo']\n",
    "n_total = clientes_ativos_2018\n",
    "\n",
    "churn_ativos_2019 = calcular_churn(n, n_total)\n",
    "churn_ativos_2019"
   ]
  },
  {
   "cell_type": "markdown",
   "metadata": {
    "hidden": true
   },
   "source": [
    "O churn de clientes ativos **continua nos 26%**."
   ]
  },
  {
   "cell_type": "markdown",
   "metadata": {
    "hidden": true
   },
   "source": [
    "### 2.5.1 Churn de Clientes Novos"
   ]
  },
  {
   "cell_type": "code",
   "execution_count": 42,
   "metadata": {
    "hidden": true
   },
   "outputs": [],
   "source": [
    "# df auxiliar\n",
    "\n",
    "aux3 = clientes_ativos_2018[['cd_cliente','status_comparado_2017']]\n",
    "\n",
    "aux3 = aux3[aux3['status_comparado_2017']=='Novo']\n",
    "\n",
    "aux3.columns = ['cd_cliente', 'status']"
   ]
  },
  {
   "cell_type": "code",
   "execution_count": 43,
   "metadata": {
    "hidden": true
   },
   "outputs": [],
   "source": [
    "# df de clientes novos\n",
    "\n",
    "clientes_novos_2019 = clientes_2019.copy()\n",
    "\n",
    "# verificando os clientes que alugaram carros pela primeira vez em 2018 e voltaram a alugar em 2019\n",
    "\n",
    "clientes_novos_2019 = pd.merge(clientes_novos_2019, aux3, how='left', on='cd_cliente')\n",
    "\n",
    "# mantendo apenas os registros encontrados\n",
    "\n",
    "clientes_novos_2019.dropna(inplace=True)"
   ]
  },
  {
   "cell_type": "code",
   "execution_count": 44,
   "metadata": {
    "hidden": true
   },
   "outputs": [
    {
     "data": {
      "text/plain": [
       "0.576246962984136"
      ]
     },
     "execution_count": 44,
     "metadata": {},
     "output_type": "execute_result"
    }
   ],
   "source": [
    "# calculando o churn dos clientes conquistados em 2018 que não voltaram a alugar em 2019\n",
    "\n",
    "n = clientes_novos_2019\n",
    "n_total = aux3\n",
    "\n",
    "churn_novos_2019 = calcular_churn(n, n_total)\n",
    "churn_novos_2019"
   ]
  },
  {
   "cell_type": "markdown",
   "metadata": {
    "hidden": true
   },
   "source": [
    "O cálculo mostra que **58% dos clientes** conquistados em 2018 não voltaram a alugar carros em 2019.\n",
    "_____"
   ]
  },
  {
   "cell_type": "markdown",
   "metadata": {
    "hidden": true
   },
   "source": [
    "## 2.6 Clientes de 2020"
   ]
  },
  {
   "cell_type": "code",
   "execution_count": 45,
   "metadata": {
    "hidden": true
   },
   "outputs": [],
   "source": [
    "clientes_2020 = df1[df1['ano'] == 2020]\n",
    "\n",
    "clientes_2020 = clientes_2020[['cd_cliente','qtd_diarias']].groupby('cd_cliente').count().reset_index()\n",
    "\n",
    "clientes_ativos_2020 = clientes_2020.copy()\n",
    "\n",
    "clientes_ativos_2020.columns = ['cd_cliente', 'status_comparado_2020']\n",
    "\n",
    "clientes_ativos_2020['status_comparado_2020'] = 'Ativo'"
   ]
  },
  {
   "cell_type": "markdown",
   "metadata": {
    "hidden": true
   },
   "source": [
    "### 2.6.1 Churn de Clientes Ativos"
   ]
  },
  {
   "cell_type": "code",
   "execution_count": 46,
   "metadata": {
    "hidden": true
   },
   "outputs": [],
   "source": [
    "clientes_ativos_2020 = pd.merge(clientes_ativos_2020, clientes_ativos_2019[['cd_cliente', 'status_comparado_2019']], \n",
    "                                how='left', on='cd_cliente')"
   ]
  },
  {
   "cell_type": "code",
   "execution_count": 47,
   "metadata": {
    "hidden": true
   },
   "outputs": [
    {
     "data": {
      "text/plain": [
       "cd_cliente                  0\n",
       "status_comparado_2020       0\n",
       "status_comparado_2019    7071\n",
       "dtype: int64"
      ]
     },
     "execution_count": 47,
     "metadata": {},
     "output_type": "execute_result"
    }
   ],
   "source": [
    "clientes_ativos_2020.isnull().sum()"
   ]
  },
  {
   "cell_type": "code",
   "execution_count": 48,
   "metadata": {
    "hidden": true
   },
   "outputs": [],
   "source": [
    "clientes_ativos_2020['status_comparado_2019'] = clientes_ativos_2020['status_comparado_2019'].fillna('Novo')"
   ]
  },
  {
   "cell_type": "code",
   "execution_count": 49,
   "metadata": {
    "hidden": true
   },
   "outputs": [
    {
     "data": {
      "text/plain": [
       "0.2609693783093272"
      ]
     },
     "execution_count": 49,
     "metadata": {},
     "output_type": "execute_result"
    }
   ],
   "source": [
    "# calculo do churn de ativos\n",
    "\n",
    "n = clientes_ativos_2020[clientes_ativos_2020['status_comparado_2019']=='Ativo']\n",
    "n_total = clientes_ativos_2019\n",
    "\n",
    "churn_ativos_2020 = calcular_churn(n, n_total)\n",
    "churn_ativos_2020"
   ]
  },
  {
   "cell_type": "markdown",
   "metadata": {
    "hidden": true
   },
   "source": [
    "O churn de clientes ativos continua **estável em 26%**."
   ]
  },
  {
   "cell_type": "markdown",
   "metadata": {
    "hidden": true
   },
   "source": [
    "### 2.6.2 Churn de Clientes Novos"
   ]
  },
  {
   "cell_type": "code",
   "execution_count": 50,
   "metadata": {
    "hidden": true
   },
   "outputs": [],
   "source": [
    "# df auxiliar\n",
    "\n",
    "aux4 = clientes_ativos_2019[['cd_cliente','status_comparado_2018']]\n",
    "\n",
    "aux4 = aux4[aux4['status_comparado_2018']=='Novo']\n",
    "\n",
    "aux4.columns = ['cd_cliente', 'status']"
   ]
  },
  {
   "cell_type": "code",
   "execution_count": 51,
   "metadata": {
    "hidden": true
   },
   "outputs": [],
   "source": [
    "# df de clientes novos\n",
    "\n",
    "clientes_novos_2020 = clientes_2020.copy()\n",
    "\n",
    "# verificando os clientes que alugaram carros pela primeira vez em 2019 e voltaram a alugar em 2020\n",
    "\n",
    "clientes_novos_2020 = pd.merge(clientes_novos_2020, aux4, how='left', on='cd_cliente')\n",
    "\n",
    "# mantendo apenas os registros encontrados\n",
    "\n",
    "clientes_novos_2020.dropna(inplace=True)"
   ]
  },
  {
   "cell_type": "code",
   "execution_count": 52,
   "metadata": {
    "hidden": true
   },
   "outputs": [
    {
     "data": {
      "text/plain": [
       "0.5946724262059035"
      ]
     },
     "execution_count": 52,
     "metadata": {},
     "output_type": "execute_result"
    }
   ],
   "source": [
    "# calculando o churn dos clientes conquistados em 2019 que não voltaram a alugar em 2020\n",
    "\n",
    "n = clientes_novos_2020\n",
    "n_total = aux4\n",
    "\n",
    "churn_novos_2020 = calcular_churn(n, n_total)\n",
    "churn_novos_2020\n"
   ]
  },
  {
   "cell_type": "markdown",
   "metadata": {
    "hidden": true
   },
   "source": [
    "Finalmente, o último período da série analisada mostra que **59% dos clientes** conquistados em 2019 não voltaram a alugar carros em 2020.\n",
    "_____"
   ]
  },
  {
   "cell_type": "markdown",
   "metadata": {
    "heading_collapsed": true
   },
   "source": [
    "# 3.0 Conclusão"
   ]
  },
  {
   "cell_type": "markdown",
   "metadata": {
    "hidden": true
   },
   "source": [
    "## 3.1 Hipótese Analisada\n",
    "### “O churn de novos clientes é maior do que o churn de clientes ativos”"
   ]
  },
  {
   "cell_type": "code",
   "execution_count": 53,
   "metadata": {
    "hidden": true
   },
   "outputs": [
    {
     "data": {
      "text/html": [
       "<div>\n",
       "<style scoped>\n",
       "    .dataframe tbody tr th:only-of-type {\n",
       "        vertical-align: middle;\n",
       "    }\n",
       "\n",
       "    .dataframe tbody tr th {\n",
       "        vertical-align: top;\n",
       "    }\n",
       "\n",
       "    .dataframe thead th {\n",
       "        text-align: right;\n",
       "    }\n",
       "</style>\n",
       "<table border=\"1\" class=\"dataframe\">\n",
       "  <thead>\n",
       "    <tr style=\"text-align: right;\">\n",
       "      <th></th>\n",
       "      <th>ano</th>\n",
       "      <th>churn_clientes_ativos</th>\n",
       "      <th>churn_clientes_novos</th>\n",
       "    </tr>\n",
       "  </thead>\n",
       "  <tbody>\n",
       "    <tr>\n",
       "      <th>0</th>\n",
       "      <td>2016</td>\n",
       "      <td>0.258925</td>\n",
       "      <td>NaN</td>\n",
       "    </tr>\n",
       "    <tr>\n",
       "      <th>1</th>\n",
       "      <td>2017</td>\n",
       "      <td>0.258467</td>\n",
       "      <td>0.588879</td>\n",
       "    </tr>\n",
       "    <tr>\n",
       "      <th>2</th>\n",
       "      <td>2018</td>\n",
       "      <td>0.256192</td>\n",
       "      <td>0.573833</td>\n",
       "    </tr>\n",
       "    <tr>\n",
       "      <th>3</th>\n",
       "      <td>2019</td>\n",
       "      <td>0.257705</td>\n",
       "      <td>0.576247</td>\n",
       "    </tr>\n",
       "    <tr>\n",
       "      <th>4</th>\n",
       "      <td>2020</td>\n",
       "      <td>0.260969</td>\n",
       "      <td>0.594672</td>\n",
       "    </tr>\n",
       "  </tbody>\n",
       "</table>\n",
       "</div>"
      ],
      "text/plain": [
       "    ano  churn_clientes_ativos  churn_clientes_novos\n",
       "0  2016               0.258925                   NaN\n",
       "1  2017               0.258467              0.588879\n",
       "2  2018               0.256192              0.573833\n",
       "3  2019               0.257705              0.576247\n",
       "4  2020               0.260969              0.594672"
      ]
     },
     "execution_count": 53,
     "metadata": {},
     "output_type": "execute_result"
    }
   ],
   "source": [
    "# criando um df com os resultados\n",
    "\n",
    "churn_clientes = pd.DataFrame({'ano':[2016, 2017, 2018, 2019, 2020],\n",
    "                       'churn_clientes_ativos':[churn_ativos_2016, churn_ativos_2017, churn_ativos_2018,\n",
    "                                                churn_ativos_2019, churn_ativos_2020],\n",
    "                       'churn_clientes_novos':[np.nan,churn_novos_2017,churn_novos_2018,churn_novos_2019, churn_novos_2020 ]})\n",
    "\n",
    "churn_clientes"
   ]
  },
  {
   "cell_type": "markdown",
   "metadata": {
    "hidden": true
   },
   "source": [
    "**Observações:**\n",
    "\n",
    "- Como o início da jornada é em 2015, esse ano não apresentará churn, por não possuir período anterior para se comparar o número de clientes;\n",
    "- O ano de 2016 foi o primeiro a poder identificar o número de clientes novos conquistados, portanto esse churn só tem início em 2017, quando compararmos os números dos dois anos."
   ]
  },
  {
   "cell_type": "markdown",
   "metadata": {
    "hidden": true
   },
   "source": [
    "Para que fique mais justo, o ano de 2016 não será considerado para o cálculo das médias, pois nesse período não temos o Churn de Clientes Novos. Consideraremos então o período de 2017-2020 para a comparação."
   ]
  },
  {
   "cell_type": "code",
   "execution_count": 54,
   "metadata": {
    "hidden": true
   },
   "outputs": [],
   "source": [
    "churn_clientes.dropna(inplace=True)"
   ]
  },
  {
   "cell_type": "code",
   "execution_count": 55,
   "metadata": {
    "hidden": true
   },
   "outputs": [
    {
     "data": {
      "text/html": [
       "<div>\n",
       "<style scoped>\n",
       "    .dataframe tbody tr th:only-of-type {\n",
       "        vertical-align: middle;\n",
       "    }\n",
       "\n",
       "    .dataframe tbody tr th {\n",
       "        vertical-align: top;\n",
       "    }\n",
       "\n",
       "    .dataframe thead th {\n",
       "        text-align: right;\n",
       "    }\n",
       "</style>\n",
       "<table border=\"1\" class=\"dataframe\">\n",
       "  <thead>\n",
       "    <tr style=\"text-align: right;\">\n",
       "      <th></th>\n",
       "      <th>ano</th>\n",
       "      <th>churn_clientes_ativos</th>\n",
       "      <th>churn_clientes_novos</th>\n",
       "    </tr>\n",
       "  </thead>\n",
       "  <tbody>\n",
       "    <tr>\n",
       "      <th>1</th>\n",
       "      <td>2017</td>\n",
       "      <td>0.258467</td>\n",
       "      <td>0.588879</td>\n",
       "    </tr>\n",
       "    <tr>\n",
       "      <th>2</th>\n",
       "      <td>2018</td>\n",
       "      <td>0.256192</td>\n",
       "      <td>0.573833</td>\n",
       "    </tr>\n",
       "    <tr>\n",
       "      <th>3</th>\n",
       "      <td>2019</td>\n",
       "      <td>0.257705</td>\n",
       "      <td>0.576247</td>\n",
       "    </tr>\n",
       "    <tr>\n",
       "      <th>4</th>\n",
       "      <td>2020</td>\n",
       "      <td>0.260969</td>\n",
       "      <td>0.594672</td>\n",
       "    </tr>\n",
       "  </tbody>\n",
       "</table>\n",
       "</div>"
      ],
      "text/plain": [
       "    ano  churn_clientes_ativos  churn_clientes_novos\n",
       "1  2017               0.258467              0.588879\n",
       "2  2018               0.256192              0.573833\n",
       "3  2019               0.257705              0.576247\n",
       "4  2020               0.260969              0.594672"
      ]
     },
     "execution_count": 55,
     "metadata": {},
     "output_type": "execute_result"
    }
   ],
   "source": [
    "churn_clientes"
   ]
  },
  {
   "cell_type": "code",
   "execution_count": 56,
   "metadata": {
    "hidden": true
   },
   "outputs": [
    {
     "name": "stdout",
     "output_type": "stream",
     "text": [
      "Média de Churn de Clientes Ativos: 25.83%\n",
      "Média de Churn de Clientes Novos: 58.34%\n"
     ]
    }
   ],
   "source": [
    "# calculando a média dos churnes no período analisado\n",
    "\n",
    "perc_churn_ativos = (churn_clientes.iloc[:,1:].mean()[0])*100\n",
    "perc_churn_novos = (churn_clientes.iloc[:,1:].mean()[1])*100\n",
    "\n",
    "print('Média de Churn de Clientes Ativos: {:,.2f}%'.format(perc_churn_ativos))\n",
    "print('Média de Churn de Clientes Novos: {:,.2f}%'.format(perc_churn_novos))"
   ]
  },
  {
   "cell_type": "markdown",
   "metadata": {
    "hidden": true
   },
   "source": [
    "**Hipótese aceita**. No período analisado, a média do Churn de Clientes Novos é 58.34%, e o de Clientes Ativos, 25.83%."
   ]
  },
  {
   "cell_type": "markdown",
   "metadata": {
    "hidden": true
   },
   "source": [
    "## 3.2 Correlação entre as variáveis"
   ]
  },
  {
   "cell_type": "markdown",
   "metadata": {
    "hidden": true
   },
   "source": [
    "Como existe uma sobreposição, o 'Churn de Clientes Novos' está dentro do 'Churn de Clientes Ativos'. Dessa forma, qual a correlação entre essas duas variáveis? Aqui, são utilizados o QQ Plot e o teste de Shapiro-Wilk no 'churn_clientes_ativos', para verificar a normalidade da distribuição e decidir entre o método de correlação de **Pearson** ou **Spearman**."
   ]
  },
  {
   "cell_type": "markdown",
   "metadata": {
    "hidden": true
   },
   "source": [
    "### 3.2.1 Normal QQ-Plot"
   ]
  },
  {
   "cell_type": "code",
   "execution_count": 57,
   "metadata": {
    "hidden": true
   },
   "outputs": [
    {
     "data": {
      "text/plain": [
       "Text(0.5, 1.0, 'NORMAL QQ PLOT')"
      ]
     },
     "execution_count": 57,
     "metadata": {},
     "output_type": "execute_result"
    },
    {
     "data": {
      "image/png": "[encoded data removed]",
      "text/plain": [
       "<Figure size 1080x576 with 1 Axes>"
      ]
     },
     "metadata": {},
     "output_type": "display_data"
    }
   ],
   "source": [
    "plt.figure(figsize=(15,8))\n",
    "\n",
    "stats.probplot(churn_clientes['churn_clientes_ativos'], dist='norm', plot=plt)\n",
    "plt.title('NORMAL QQ PLOT', fontsize=14, fontweight='bold')"
   ]
  },
  {
   "cell_type": "markdown",
   "metadata": {
    "hidden": true
   },
   "source": [
    "A distribuição da variável está muito próxima à distribuição teórica, representando uma normalidade."
   ]
  },
  {
   "cell_type": "markdown",
   "metadata": {
    "hidden": true
   },
   "source": [
    "### 3.2.2 Shapiro-Wilk"
   ]
  },
  {
   "cell_type": "markdown",
   "metadata": {
    "hidden": true
   },
   "source": [
    "Antes de realizar a análise de correlação, faz-se o teste de normalidade para verificar qual metódo de correlação utilizar, Pearson, Kendall ou Spearman.\n",
    "\n",
    "Nível de significância de 0,05 ou 5%\n",
    "\n",
    "- Ho = distribuição normal: p>0.05;\n",
    "\n",
    "- Ha = distribuição não normal: p<=0.05"
   ]
  },
  {
   "cell_type": "code",
   "execution_count": 58,
   "metadata": {
    "hidden": true
   },
   "outputs": [
    {
     "data": {
      "text/plain": [
       "ShapiroResult(statistic=0.9733506441116333, pvalue=0.8621094226837158)"
      ]
     },
     "execution_count": 58,
     "metadata": {},
     "output_type": "execute_result"
    }
   ],
   "source": [
    "stats.shapiro(churn_clientes['churn_clientes_ativos'])"
   ]
  },
  {
   "cell_type": "markdown",
   "metadata": {
    "hidden": true
   },
   "source": [
    "Como o p-valor se apresentou superior a 0.05, **será considerada distribuição normal** e, portanto, será utilizado o método de Pearson."
   ]
  },
  {
   "cell_type": "markdown",
   "metadata": {
    "hidden": true
   },
   "source": [
    "### 3.2.3 Heatmap"
   ]
  },
  {
   "cell_type": "code",
   "execution_count": 59,
   "metadata": {
    "hidden": true
   },
   "outputs": [
    {
     "data": {
      "text/plain": [
       "Text(0.5, 1.0, 'CORRELAÇÃO ENTRE O CHURN DE ATIVOS E O CHURN DE NOVOS CLIENTES')"
      ]
     },
     "execution_count": 59,
     "metadata": {},
     "output_type": "execute_result"
    },
    {
     "data": {
      "image/png": "[encoded data removed]",
      "text/plain": [
       "<Figure size 1080x576 with 1 Axes>"
      ]
     },
     "metadata": {},
     "output_type": "display_data"
    }
   ],
   "source": [
    "correlacao = churn_clientes[['churn_clientes_ativos','churn_clientes_novos']].corr(method='pearson')\n",
    "\n",
    "\n",
    "plt.figure(figsize=(15,8))\n",
    "sns.heatmap(correlacao, cbar=False, annot=True)\n",
    "plt.title('CORRELAÇÃO ENTRE O CHURN DE ATIVOS E O CHURN DE NOVOS CLIENTES',fontsize=14, fontweight='bold')"
   ]
  },
  {
   "cell_type": "markdown",
   "metadata": {
    "hidden": true
   },
   "source": [
    "### 3.2.3.1 Interpretação\n",
    "\n",
    "Como era esperado, existe uma correlação muito forte entre o 'Churn de Clientes Ativos' e o 'Churn de Clientes Novos'. Visto que o churn dos clientes novos fica próximo dos 60%, se a empresa conseguir reduzir esse indicador, estará conseguindo reduzir também o churn em geral. \n",
    "\n",
    "Algumas formas a se considerar para fazer com que esse cliente novo siga alugando os carros da empresa é conceder descontos nos primeiros aluguéis, criar um clube de benefício e desenvolver uma jornada do cliente que torna a empresa próxima ao seu dia-a-dia."
   ]
  },
  {
   "cell_type": "markdown",
   "metadata": {},
   "source": [
    "# Fim."
   ]
  }
 ],
 "metadata": {
  "kernelspec": {
   "display_name": "Python 3",
   "language": "python",
   "name": "python3"
  },
  "language_info": {
   "codemirror_mode": {
    "name": "ipython",
    "version": 3
   },
   "file_extension": ".py",
   "mimetype": "text/x-python",
   "name": "python",
   "nbconvert_exporter": "python",
   "pygments_lexer": "ipython3",
   "version": "3.8.5"
  }
 },
 "nbformat": 4,
 "nbformat_minor": 4
}
