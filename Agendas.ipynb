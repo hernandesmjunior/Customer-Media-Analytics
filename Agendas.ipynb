{
 "cells": [
  {
   "cell_type": "markdown",
   "metadata": {},
   "source": [
    "<img src=\"images/businessmeeting.jpg\">\n",
    "\n",
    "<center>Ilustração por Unblast.</center>\n",
    "\n",
    "# INTERVALOS DISPONÍVEIS EM DUAS AGENDAS\n",
    "\n",
    "Antes de apresentar as análises para a liderança, você decide se reunir com seu colega\n",
    "de trabalho para discutirem os resultados e se estruturarem para a apresentação. No entanto,\n",
    "para isso, é preciso identificar um horário na agenda que seja factível para ambos.\n",
    "\n",
    "\n",
    "Dadas as agendas de duas pessoas e seus respectivos horários de trabalho, escreva\n",
    "um algoritmo que retorna todos os horários nos quais ambas as pessoas estariam disponíveis\n",
    "para uma reunião de t minutos.\n",
    "\n",
    "\n",
    "As agendas serão compostas por uma lista de n compromissos previamente marcados.\n",
    "Esses compromissos, por sua vez, serão representados por uma lista ou tuple de duas strings,\n",
    "no qual o primeiro elemento representa o horário de início do compromisso e o último elemento\n",
    "o horário de término. A jornada de trabalho terá o mesmo formato de um compromisso, no qual\n",
    "o primeiro elemento representa o horário de início do turno e o último elemento o horário final da\n",
    "jornada. O tempo da reunião, em minutos, será um inteiro. Por fim, espera-se que o resultado\n",
    "esteja no mesmo formato das agendas, nos quais os “compromissos”, nesse caso,\n",
    "correspondem aos horários disponíveis para a reunião. \n",
    "\n",
    "________\n",
    "\n",
    "\n",
    "## Metodologia Escolhida\n",
    "\n",
    "De forma objetiva, o candidato resolveu encontrar quais os intervalos disponíveis da pessoa A e em seguida os intervalos disponíveis da pessoa B. Por fim, é feito um cruzamento entre esses intervalos, para encontrar aqueles que são comuns às duas agendas.\n",
    "\n",
    "Nesse desafio, o candidato optou por utilizar o exemplo dado pela própria empresa. No entanto, a solução seria eficaz para qualquer outras agendas e intervalos de tempo.\n",
    "\n",
    "________"
   ]
  },
  {
   "cell_type": "markdown",
   "metadata": {},
   "source": [
    "# 0.0 Importações"
   ]
  },
  {
   "cell_type": "code",
   "execution_count": 1,
   "metadata": {},
   "outputs": [],
   "source": [
    "\n",
    "import pandas as pd\n",
    "from datetime import datetime, timedelta\n"
   ]
  },
  {
   "cell_type": "markdown",
   "metadata": {},
   "source": [
    "# 1.0 Definindo o tempo da reunião"
   ]
  },
  {
   "cell_type": "code",
   "execution_count": 2,
   "metadata": {},
   "outputs": [],
   "source": [
    "\n",
    "duracao = timedelta(minutes=30)\n"
   ]
  },
  {
   "cell_type": "markdown",
   "metadata": {},
   "source": [
    "# 2.0 Encontrando intervalos disponíveis"
   ]
  },
  {
   "cell_type": "markdown",
   "metadata": {},
   "source": [
    "## 2.1 Pessoa A"
   ]
  },
  {
   "cell_type": "code",
   "execution_count": 3,
   "metadata": {},
   "outputs": [],
   "source": [
    "compromissos = [(datetime(2021, 9, 5, 9),  datetime(2021, 9, 5, 10, 30)),\n",
    "                (datetime(2021, 9, 5, 12), datetime(2021, 9, 5, 13)),\n",
    "                (datetime(2021, 9, 5, 16), datetime(2021, 9, 5, 18))           \n",
    "               ]\n",
    "\n",
    "horario_trabalho = (datetime(2021, 9, 5, 9), datetime(2021, 9, 5, 20))\n",
    "\n",
    "\n",
    "listaA = []\n",
    "\n",
    "intervalos = sorted([(horario_trabalho[0], horario_trabalho[0])] + compromissos + [(horario_trabalho[1], horario_trabalho[1])])\n",
    "\n",
    "for start, end in ((intervalos[i][1], intervalos[i+1][0]) for i in range(len(intervalos)-1)):\n",
    "    \n",
    "    assert start <= end, \"Número de compromissos excede a agenda\"\n",
    "    \n",
    "    while start + duracao <= end:\n",
    "        \n",
    "        listaA.append(['{:%H:%M}'.format(start),'{:%H:%M}'.format(start + duracao)])\n",
    "\n",
    "        start += duracao\n"
   ]
  },
  {
   "cell_type": "code",
   "execution_count": 4,
   "metadata": {},
   "outputs": [
    {
     "data": {
      "text/plain": [
       "[['10:30', '11:00'],\n",
       " ['11:00', '11:30'],\n",
       " ['11:30', '12:00'],\n",
       " ['13:00', '13:30'],\n",
       " ['13:30', '14:00'],\n",
       " ['14:00', '14:30'],\n",
       " ['14:30', '15:00'],\n",
       " ['15:00', '15:30'],\n",
       " ['15:30', '16:00'],\n",
       " ['18:00', '18:30'],\n",
       " ['18:30', '19:00'],\n",
       " ['19:00', '19:30'],\n",
       " ['19:30', '20:00']]"
      ]
     },
     "execution_count": 4,
     "metadata": {},
     "output_type": "execute_result"
    }
   ],
   "source": [
    "listaA"
   ]
  },
  {
   "cell_type": "markdown",
   "metadata": {},
   "source": [
    "## 2.2 Pessoa B"
   ]
  },
  {
   "cell_type": "code",
   "execution_count": 5,
   "metadata": {},
   "outputs": [],
   "source": [
    "compromissos = [\n",
    "               (datetime(2021, 9, 5, 10), datetime(2021, 9, 5, 11, 30)),\n",
    "               (datetime(2021, 9, 5, 12, 30), datetime(2021, 9, 5, 14, 30)),\n",
    "               (datetime(2021, 9, 5, 14, 30), datetime(2021, 9, 5, 15)),\n",
    "               (datetime(2021, 9, 5, 16), datetime(2021, 9, 5, 17)) \n",
    "               ]\n",
    "\n",
    "horario_trabalho = (datetime(2021, 9, 5, 10), datetime(2021, 9, 5, 18, 30))\n",
    "\n",
    "listaB = []\n",
    "\n",
    "intervalos = sorted([(horario_trabalho[0], horario_trabalho[0])] + compromissos + [(horario_trabalho[1], horario_trabalho[1])])\n",
    "\n",
    "for start, end in ((intervalos[i][1], intervalos[i+1][0]) for i in range(len(intervalos)-1)):\n",
    "    \n",
    "    assert start <= end, \"Número de compromissos excede a agenda\"\n",
    "    \n",
    "    while start + duracao <= end:\n",
    "        \n",
    "        listaB.append(['{:%H:%M}'.format(start),'{:%H:%M}'.format(start + duracao)])\n",
    "        \n",
    "        start += duracao"
   ]
  },
  {
   "cell_type": "code",
   "execution_count": 6,
   "metadata": {},
   "outputs": [
    {
     "data": {
      "text/plain": [
       "[['11:30', '12:00'],\n",
       " ['12:00', '12:30'],\n",
       " ['15:00', '15:30'],\n",
       " ['15:30', '16:00'],\n",
       " ['17:00', '17:30'],\n",
       " ['17:30', '18:00'],\n",
       " ['18:00', '18:30']]"
      ]
     },
     "execution_count": 6,
     "metadata": {},
     "output_type": "execute_result"
    }
   ],
   "source": [
    "listaB"
   ]
  },
  {
   "cell_type": "markdown",
   "metadata": {},
   "source": [
    "## 2.3 Intervalos disponiveis em ambas as agendas"
   ]
  },
  {
   "cell_type": "code",
   "execution_count": 7,
   "metadata": {},
   "outputs": [],
   "source": [
    "listafinal = []\n",
    "\n",
    "for i in listaB:\n",
    "    if i in listaA:\n",
    "        \n",
    "        listafinal.append(i)\n",
    "        "
   ]
  },
  {
   "cell_type": "code",
   "execution_count": 8,
   "metadata": {},
   "outputs": [
    {
     "data": {
      "text/plain": [
       "[['11:30', '12:00'],\n",
       " ['15:00', '15:30'],\n",
       " ['15:30', '16:00'],\n",
       " ['18:00', '18:30']]"
      ]
     },
     "execution_count": 8,
     "metadata": {},
     "output_type": "execute_result"
    }
   ],
   "source": [
    "listafinal"
   ]
  },
  {
   "cell_type": "markdown",
   "metadata": {},
   "source": [
    "# Fim."
   ]
  }
 ],
 "metadata": {
  "kernelspec": {
   "display_name": "Python 3",
   "language": "python",
   "name": "python3"
  },
  "language_info": {
   "codemirror_mode": {
    "name": "ipython",
    "version": 3
   },
   "file_extension": ".py",
   "mimetype": "text/x-python",
   "name": "python",
   "nbconvert_exporter": "python",
   "pygments_lexer": "ipython3",
   "version": "3.8.5"
  }
 },
 "nbformat": 4,
 "nbformat_minor": 4
}
